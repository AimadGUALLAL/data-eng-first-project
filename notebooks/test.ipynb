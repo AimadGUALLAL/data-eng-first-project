{
 "cells": [
  {
   "cell_type": "code",
   "execution_count": 35,
   "id": "5b176c9b",
   "metadata": {},
   "outputs": [],
   "source": [
    "import pandas as pd \n",
    "import requests\n",
    "from datetime import datetime\n",
    "import time"
   ]
  },
  {
   "cell_type": "markdown",
   "id": "0a2515f3",
   "metadata": {},
   "source": [
    "## collect_coingecko_prices"
   ]
  },
  {
   "cell_type": "code",
   "execution_count": 5,
   "id": "6ba852b5",
   "metadata": {},
   "outputs": [],
   "source": [
    "session = requests.Session()"
   ]
  },
  {
   "cell_type": "code",
   "execution_count": 6,
   "id": "a05d2e84",
   "metadata": {},
   "outputs": [],
   "source": [
    "coin_ids=[\"bitcoin\", \"ethereum\", \"cardano\", \"solana\"]"
   ]
  },
  {
   "cell_type": "code",
   "execution_count": 7,
   "id": "edf1c1bb",
   "metadata": {},
   "outputs": [],
   "source": [
    "ids_str = \",\".join(coin_ids)"
   ]
  },
  {
   "cell_type": "code",
   "execution_count": 9,
   "id": "bccd4fd4",
   "metadata": {},
   "outputs": [],
   "source": [
    "url = \"https://api.coingecko.com/api/v3/simple/price\"\n",
    "params = {\n",
    "            \"ids\": ids_str,\n",
    "            \"vs_currencies\": \"usd,eur,btc\",\n",
    "            \"include_market_cap\": \"true\",\n",
    "            \"include_24hr_vol\": \"true\",\n",
    "            \"include_24hr_change\": \"true\",\n",
    "            \"include_last_updated_at\": \"true\",\n",
    "        }"
   ]
  },
  {
   "cell_type": "code",
   "execution_count": 10,
   "id": "420558b1",
   "metadata": {},
   "outputs": [],
   "source": [
    "response = session.get(url, params=params, timeout=10)"
   ]
  },
  {
   "cell_type": "code",
   "execution_count": 11,
   "id": "87b33d7a",
   "metadata": {},
   "outputs": [
    {
     "data": {
      "text/plain": [
       "200"
      ]
     },
     "execution_count": 11,
     "metadata": {},
     "output_type": "execute_result"
    }
   ],
   "source": [
    "response.status_code"
   ]
  },
  {
   "cell_type": "code",
   "execution_count": 12,
   "id": "e8c03916",
   "metadata": {},
   "outputs": [],
   "source": [
    "data = response.json()"
   ]
  },
  {
   "cell_type": "code",
   "execution_count": 19,
   "id": "de0a4958",
   "metadata": {},
   "outputs": [],
   "source": [
    "timestamp = datetime.utcnow()"
   ]
  },
  {
   "cell_type": "code",
   "execution_count": 20,
   "id": "14d9842a",
   "metadata": {},
   "outputs": [],
   "source": [
    "enriched_data = {\n",
    "            \"collected_at\": timestamp.isoformat(),\n",
    "            \"source\": \"coingecko\",\n",
    "            \"data_type\": \"spot_prices\",\n",
    "            \"prices\": data,\n",
    "        }"
   ]
  },
  {
   "cell_type": "markdown",
   "id": "b839ec63",
   "metadata": {},
   "source": [
    "## collect_coingecko_market_data"
   ]
  },
  {
   "cell_type": "code",
   "execution_count": 21,
   "id": "5f36bcd9",
   "metadata": {},
   "outputs": [],
   "source": [
    "vs_currency = \"usd\"\n",
    "per_page = 100\n",
    "\n",
    "url = \"https://api.coingecko.com/api/v3/coins/markets\"\n",
    "params = {\n",
    "            \"vs_currency\": vs_currency,\n",
    "            \"order\": \"market_cap_desc\",\n",
    "            \"per_page\": per_page,\n",
    "            \"page\": 1,\n",
    "            \"sparkline\": \"false\",\n",
    "            \"price_change_percentage\": \"1h,24h,7d\",\n",
    "        }"
   ]
  },
  {
   "cell_type": "code",
   "execution_count": 22,
   "id": "bda40db0",
   "metadata": {},
   "outputs": [],
   "source": [
    "response = session.get(url, params=params, timeout=15)"
   ]
  },
  {
   "cell_type": "code",
   "execution_count": 23,
   "id": "222d4d31",
   "metadata": {},
   "outputs": [
    {
     "data": {
      "text/plain": [
       "200"
      ]
     },
     "execution_count": 23,
     "metadata": {},
     "output_type": "execute_result"
    }
   ],
   "source": [
    "response.status_code"
   ]
  },
  {
   "cell_type": "code",
   "execution_count": 24,
   "id": "dc12d4bd",
   "metadata": {},
   "outputs": [],
   "source": [
    "data = response.json()"
   ]
  },
  {
   "cell_type": "code",
   "execution_count": 26,
   "id": "acdc64c3",
   "metadata": {},
   "outputs": [
    {
     "data": {
      "text/plain": [
       "100"
      ]
     },
     "execution_count": 26,
     "metadata": {},
     "output_type": "execute_result"
    }
   ],
   "source": [
    "len(data)"
   ]
  },
  {
   "cell_type": "code",
   "execution_count": 27,
   "id": "3241e155",
   "metadata": {},
   "outputs": [],
   "source": [
    "df = pd.DataFrame(data)"
   ]
  },
  {
   "cell_type": "markdown",
   "id": "102dbda6",
   "metadata": {},
   "source": [
    "## collect_binance_ticker"
   ]
  },
  {
   "cell_type": "code",
   "execution_count": 29,
   "id": "0464de0f",
   "metadata": {},
   "outputs": [],
   "source": [
    "symbols=[\"BTCUSDT\", \"ETHUSDT\", \"BNBUSDT\", \"SOLUSDT\"]"
   ]
  },
  {
   "cell_type": "code",
   "execution_count": 34,
   "id": "53ec6caf",
   "metadata": {},
   "outputs": [],
   "source": [
    "url = \"https://api.binance.com/api/v3/ticker/24hr\"\n"
   ]
  },
  {
   "cell_type": "code",
   "execution_count": 36,
   "id": "d42896d0",
   "metadata": {},
   "outputs": [],
   "source": [
    "all_tickers = []\n",
    "for symbol in symbols:\n",
    "    url = \"https://api.binance.com/api/v3/ticker/24hr\"\n",
    "    response = session.get(url, params={\"symbol\": symbol}, timeout=10)\n",
    "    response.raise_for_status()\n",
    "    all_tickers.append(response.json())\n",
    "    time.sleep(0.1)"
   ]
  },
  {
   "cell_type": "code",
   "execution_count": 37,
   "id": "15658e36",
   "metadata": {},
   "outputs": [],
   "source": [
    "timestamp = datetime.utcnow()\n",
    "enriched_data = {\n",
    "    \"collected_at\": timestamp.isoformat(),\n",
    "    \"source\": \"binance\",\n",
    "    \"data_type\": \"24hr_ticker\",\n",
    "    \"tickers\": all_tickers,\n",
    "}\n"
   ]
  },
  {
   "cell_type": "markdown",
   "id": "2655e14a",
   "metadata": {},
   "source": [
    "## collect_binance_klines"
   ]
  },
  {
   "cell_type": "code",
   "execution_count": 39,
   "id": "62578fb6",
   "metadata": {},
   "outputs": [],
   "source": [
    "url = \"https://api.binance.com/api/v3/klines\""
   ]
  },
  {
   "cell_type": "code",
   "execution_count": 41,
   "id": "44ba7d90",
   "metadata": {},
   "outputs": [],
   "source": [
    "symbol=\"BTCUSDT\"\n",
    "interval=\"1h\"\n",
    "limit=100"
   ]
  },
  {
   "cell_type": "code",
   "execution_count": 42,
   "id": "fc393587",
   "metadata": {},
   "outputs": [],
   "source": [
    "params = {\"symbol\": symbol, \"interval\": interval, \"limit\": limit}"
   ]
  },
  {
   "cell_type": "code",
   "execution_count": 43,
   "id": "100f40c5",
   "metadata": {},
   "outputs": [],
   "source": [
    "response = session.get(url, params=params, timeout=15)"
   ]
  },
  {
   "cell_type": "code",
   "execution_count": 45,
   "id": "e22abc17",
   "metadata": {},
   "outputs": [],
   "source": [
    "data = response.json()"
   ]
  },
  {
   "cell_type": "code",
   "execution_count": 48,
   "id": "4281bc89",
   "metadata": {},
   "outputs": [],
   "source": [
    "df = pd.DataFrame(data, columns=[\n",
    "            \"open_time\", \"open\", \"high\", \"low\", \"close\", \"volume\",\n",
    "            \"close_time\", \"quote_volume\", \"trades\", \"taker_buy_base\",\n",
    "            \"taker_buy_quote\", \"ignore\"\n",
    "        ])"
   ]
  },
  {
   "cell_type": "markdown",
   "id": "3866e50b",
   "metadata": {},
   "source": [
    "## collect_fear_greed_index"
   ]
  },
  {
   "cell_type": "code",
   "execution_count": 52,
   "id": "27ad975e",
   "metadata": {},
   "outputs": [],
   "source": [
    "url = \"https://api.alternative.me/fng/\"\n",
    "response = session.get(url, params={\"limit\": 10}, timeout=10)\n",
    "response.raise_for_status()\n",
    "data = response.json()"
   ]
  },
  {
   "cell_type": "code",
   "execution_count": 53,
   "id": "0f2072ef",
   "metadata": {},
   "outputs": [
    {
     "data": {
      "text/plain": [
       "{'name': 'Fear and Greed Index',\n",
       " 'data': [{'value': '60',\n",
       "   'value_classification': 'Greed',\n",
       "   'timestamp': '1759881600',\n",
       "   'time_until_update': '81282'},\n",
       "  {'value': '70', 'value_classification': 'Greed', 'timestamp': '1759795200'},\n",
       "  {'value': '71', 'value_classification': 'Greed', 'timestamp': '1759708800'},\n",
       "  {'value': '74', 'value_classification': 'Greed', 'timestamp': '1759622400'},\n",
       "  {'value': '71', 'value_classification': 'Greed', 'timestamp': '1759536000'},\n",
       "  {'value': '63', 'value_classification': 'Greed', 'timestamp': '1759449600'},\n",
       "  {'value': '64', 'value_classification': 'Greed', 'timestamp': '1759363200'},\n",
       "  {'value': '49',\n",
       "   'value_classification': 'Neutral',\n",
       "   'timestamp': '1759276800'},\n",
       "  {'value': '50',\n",
       "   'value_classification': 'Neutral',\n",
       "   'timestamp': '1759190400'},\n",
       "  {'value': '50',\n",
       "   'value_classification': 'Neutral',\n",
       "   'timestamp': '1759104000'}],\n",
       " 'metadata': {'error': None}}"
      ]
     },
     "execution_count": 53,
     "metadata": {},
     "output_type": "execute_result"
    }
   ],
   "source": [
    "data"
   ]
  },
  {
   "cell_type": "markdown",
   "id": "f50cc656",
   "metadata": {},
   "source": [
    "## collect_coinbase_orderbook"
   ]
  },
  {
   "cell_type": "code",
   "execution_count": 54,
   "id": "e50ab158",
   "metadata": {},
   "outputs": [],
   "source": [
    "product_id=\"BTC-USD\"\n",
    "level=2\n",
    "\n",
    "url = f\"https://api.exchange.coinbase.com/products/{product_id}/book\""
   ]
  },
  {
   "cell_type": "code",
   "execution_count": 55,
   "id": "5cc9611f",
   "metadata": {},
   "outputs": [],
   "source": [
    "response = session.get(url, params={\"level\": level}, timeout=10)"
   ]
  },
  {
   "cell_type": "code",
   "execution_count": 56,
   "id": "bf88a2e3",
   "metadata": {},
   "outputs": [],
   "source": [
    "data = response.json()"
   ]
  },
  {
   "cell_type": "code",
   "execution_count": null,
   "id": "88506725",
   "metadata": {},
   "outputs": [],
   "source": []
  },
  {
   "cell_type": "code",
   "execution_count": null,
   "id": "e426d6a6",
   "metadata": {},
   "outputs": [],
   "source": []
  }
 ],
 "metadata": {
  "kernelspec": {
   "display_name": "Test_Env",
   "language": "python",
   "name": "python3"
  },
  "language_info": {
   "codemirror_mode": {
    "name": "ipython",
    "version": 3
   },
   "file_extension": ".py",
   "mimetype": "text/x-python",
   "name": "python",
   "nbconvert_exporter": "python",
   "pygments_lexer": "ipython3",
   "version": "3.11.0"
  }
 },
 "nbformat": 4,
 "nbformat_minor": 5
}
